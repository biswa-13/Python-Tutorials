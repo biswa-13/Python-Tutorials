{
  "nbformat": 4,
  "nbformat_minor": 0,
  "metadata": {
    "colab": {
      "name": "Python Basics.ipynb",
      "version": "0.3.2",
      "provenance": [],
      "collapsed_sections": [],
      "include_colab_link": true
    },
    "kernelspec": {
      "name": "python3",
      "display_name": "Python 3"
    }
  },
  "cells": [
    {
      "cell_type": "markdown",
      "metadata": {
        "id": "view-in-github",
        "colab_type": "text"
      },
      "source": [
        "<a href=\"https://colab.research.google.com/github/biswa-13/Python-Tutorials/blob/master/Python_Basics.ipynb\" target=\"_parent\"><img src=\"https://colab.research.google.com/assets/colab-badge.svg\" alt=\"Open In Colab\"/></a>"
      ]
    },
    {
      "metadata": {
        "id": "ooEuHkG-Jk4A",
        "colab_type": "text"
      },
      "cell_type": "markdown",
      "source": [
        "Hi All,<br/>\n",
        "I am<br/>\n",
        "Name: BiswaRanjan Samal<br/>\n",
        "Email: bichhubiswa@gmail.com<br/>\n",
        "\n",
        "\n",
        "---\n",
        "\n",
        "Welcome to my Python Basic Course Tutorial, in this tutorial we will learn\n",
        "\n",
        "*   Python Installation\n",
        "\n",
        "*   Python Editors\n",
        "\n",
        "*   Hello World in Python\n",
        "\n",
        "*   Python Coding Guidelines\n",
        "\n",
        "*   Basic Data Types\n",
        "\n",
        "*   Accepting User Inputs\n",
        "\n",
        "*   Operators\n",
        "*   Decision Making\n",
        "\n",
        "*   Loop Statements\n",
        "\n",
        "\n",
        "\n",
        "\n",
        "\n"
      ]
    },
    {
      "metadata": {
        "id": "gBCtxDJPPxrg",
        "colab_type": "text"
      },
      "cell_type": "markdown",
      "source": [
        "**[ Python Installation ]** <br/>\n",
        "\n",
        "\n",
        "---\n",
        "\n",
        "In this tutorial we are going to use Python V3  and Windows as Operating System, For installation of python visit to [Python Official Website](https://www.python.org/downloads/) and select a version according to your Operating System, download it and install it in your machine. [Remember to add  the Python installation path in the  Path](https://colab.research.google.com/drive/1GseCd5ImqN9aN_CbOtssNxksb5VZrLf-#scrollTo=8ptN8S9gWLda&line=9&uniqifier=1)\n",
        "    \n",
        "Ex : *C:\\Users\\HP\\AppData\\Local\\Programs\\Python\\Python36\\Scripts*\n",
        "\n",
        "To Check if it's correctly installed or not, open Command Prompt and enter below command, it will show the version details.\n",
        "\n",
        "Syntax: *python -V* <br/>\n",
        "Output: Python 3.6.5\n"
      ]
    },
    {
      "metadata": {
        "id": "8ptN8S9gWLda",
        "colab_type": "text"
      },
      "cell_type": "markdown",
      "source": [
        "**How to set Python in Windows Path**<br/>\n",
        "-> Right click on My Computer<br/>\n",
        "-> Select Properties<br/>\n",
        "-> Select Advance System Settings<br/>\n",
        "-> Select Advanced Tab<br/>\n",
        "-> Select Enviornment Variables<br/>\n",
        "-> Select Path then click on Edit <br/>\n",
        "-> Enter your Python installation directory path<br/>\n",
        "     Ex : *C:\\Users\\HP\\AppData\\Local\\Programs\\Python\\Python36\\Scripts*<br/>\n",
        "-> ok\n"
      ]
    },
    {
      "metadata": {
        "id": "zGGW5yqENAvR",
        "colab_type": "text"
      },
      "cell_type": "markdown",
      "source": [
        "**[ Python Editors ]** <br/>\n",
        "\n",
        "\n",
        "---\n",
        "\n",
        "-> Default editor for python must be installed with the basic installation of the python you can **search for it by typing IDLE or Python**  in windows application search window. <br/>\n",
        "-> **Jet Brains PyCharm** is also a very good editor for the Python coding/practice, which you can get from [PyCharm Community Edition](https://www.jetbrains.com/pycharm/download/#section=windows) <br/>\n",
        "-> If you don't want to install any editor or even if you don't want to install the python too in you system, there is another preferred option for it, which [Google Colab Python Notebook](https://colab.research.google.com/notebooks/welcome.ipynb) Benefits of using it is you can practice Python online **no need of worried for installing packages and consumption of your system memories as well here you have options for selecting CPU/GPU** for running your Python programming.<br/>\n"
      ]
    },
    {
      "metadata": {
        "id": "9zn11vT1b5tT",
        "colab_type": "text"
      },
      "cell_type": "markdown",
      "source": [
        "**[ Hello World in Python ]**<br/>\n",
        "\n",
        "\n",
        "---\n",
        "\n",
        "-> I wish all the above steps/settings must have done and now Python must be working fine.<br/>\n",
        "-> So being a programmer we should begin our journey with a traditional Hello world program.\n",
        "-> Open the installed Editor and type below code and execute it\n"
      ]
    },
    {
      "metadata": {
        "id": "Iwe_-K9LOQz1",
        "colab_type": "code",
        "outputId": "89a4be7f-7212-4857-fc9e-76e36890c0d6",
        "colab": {
          "base_uri": "https://localhost:8080/",
          "height": 34
        }
      },
      "cell_type": "code",
      "source": [
        "Ex: print(\"Hello World\")"
      ],
      "execution_count": 0,
      "outputs": [
        {
          "output_type": "stream",
          "text": [
            "Hello World\n"
          ],
          "name": "stdout"
        }
      ]
    },
    {
      "metadata": {
        "id": "ZQ8kR-uWeofL",
        "colab_type": "text"
      },
      "cell_type": "markdown",
      "source": [
        "**[ Python Coding Guidelines ]**<br/>\n",
        "\n",
        "\n",
        "---\n",
        "\n",
        "-> As of now we are done with the basic Hello world Python program so going forward being a programmer we must learn the guidelines, assumptions, DO's and DONT'S. <br\\>\n",
        "==> **File Extension** <br/>\n",
        "-> The extension of the python file is  ***.py**.<br/>\n",
        "==> **Naming Convention**<br/>\n",
        "-> Variables/function names  should start with either of alphabets within [A-Z], [a-z], _, and could be followed by other alphabets and numbers except [@, %, $] . <br/>\n",
        "-> Also you should avoid the use of reserved words. <br/>\n",
        "==>**Case Sensitiveness**<br/>\n",
        "-> Python is a strict Case Sensitive language which means \"Biswa\" and \"biswa\" will be treated as different. <br/>\n",
        "==>**Lines and Indentations**<br/>\n",
        "-> In Python there is no curly braces for grouping of codes, python has its own way of grouping the codes which says a group of code is denoted by line indentation and it is tightly enforced. <br/>\n",
        "-> The line indentation can be customized but codes of the same group must have the same indentation.<br\\>\n",
        "\n",
        "Ex:"
      ]
    },
    {
      "metadata": {
        "id": "tzYgAihLp_lM",
        "colab_type": "code",
        "outputId": "07094357-4b23-4043-cd3a-f5200a74ebf7",
        "colab": {
          "base_uri": "https://localhost:8080/",
          "height": 34
        }
      },
      "cell_type": "code",
      "source": [
        "if 1:\n",
        "  print(1)\n",
        "else:\n",
        "  print(2)\n"
      ],
      "execution_count": 0,
      "outputs": [
        {
          "output_type": "stream",
          "text": [
            "1\n"
          ],
          "name": "stdout"
        }
      ]
    },
    {
      "metadata": {
        "id": "XNmY4a6wqdV6",
        "colab_type": "text"
      },
      "cell_type": "markdown",
      "source": [
        "==>**Comments and Quotes**<br/>\n",
        "-> Python accepts single quotes(' '), double quotes(\" \"), triple quotes(''' ''') for diclaring Strings.<br/>\n",
        "-> The ending quote must match with the starting quote, and triple quote can be used for denoting multi line strings.<br/>\n",
        "-> # symbol is used before the string/line you want to comment.\n",
        "\n",
        "Ex:"
      ]
    },
    {
      "metadata": {
        "id": "dyfwQnL0rRJc",
        "colab_type": "code",
        "outputId": "f8d65d4f-7dd9-4716-c26e-3b1045943934",
        "colab": {
          "base_uri": "https://localhost:8080/",
          "height": 102
        }
      },
      "cell_type": "code",
      "source": [
        "# Practicing Comments and Quotes\n",
        "name = 'Banchha13'\n",
        "hobby = \"listening to musics\"\n",
        "address = '''Hi Reader,\n",
        "How are you ??\n",
        "'''\n",
        "print(name)\n",
        "print(hobby)\n",
        "#Printing the multiline string , this line is going to be ignored\n",
        "print(address)"
      ],
      "execution_count": 0,
      "outputs": [
        {
          "output_type": "stream",
          "text": [
            "Banchha13\n",
            "listening to musics\n",
            "Hi Reader,\n",
            "How are you ??\n",
            "\n"
          ],
          "name": "stdout"
        }
      ]
    },
    {
      "metadata": {
        "id": "KKtV9fdgs56b",
        "colab_type": "text"
      },
      "cell_type": "markdown",
      "source": [
        "**[ Basic Data Types ]**<br/>\n",
        "\n",
        "---\n",
        "-> Python has below data types\n",
        "\n",
        "*   Numbers\n",
        "*   String\n",
        "*   List\n",
        "*    Tuples\n",
        "*   Dictionary\n",
        "\n",
        "==> **Numbers** <br/>\n",
        "-> There 4 types of numerical which are supported by the Python \n",
        "\n",
        "*   int : These are numerical values which can be postive/negative whole numbers.<br/>\n",
        "\n",
        "&nbsp;&nbsp;&nbsp;&nbsp;&nbsp;&nbsp;&nbsp;Ex : val1 = 13125\n",
        "\n",
        "*   Long : These are numerical values which are longer than  the normal int values and could not be stored with int. The numerical values must be followed by a 'L' . <br/>\n",
        "&nbsp;&nbsp;&nbsp;&nbsp;&nbsp;&nbsp;&nbsp;Ex: val2 = 7205287890L<br/>\n",
        "\n",
        "*   Float : These are the numerical values separated with the a deciamal point. <br/>\n",
        "&nbsp;&nbsp;&nbsp;&nbsp;&nbsp;&nbsp;&nbsp;Ex: val2 = 1312.5<br/>\n",
        "\n",
        "*   Complex : These are the numerical values in form of a+bj.<br/>\n",
        "&nbsp;&nbsp;&nbsp;&nbsp;&nbsp;&nbsp;&nbsp;Ex: val2 = 1312.5j<br/>\n",
        "\n",
        "**Below are some Hands On Exercise for Practice**"
      ]
    },
    {
      "metadata": {
        "id": "gUQUzJfUI7ZR",
        "colab_type": "code",
        "outputId": "6bc82378-f283-40c9-e110-9b2ce010ae20",
        "colab": {
          "base_uri": "https://localhost:8080/",
          "height": 85
        }
      },
      "cell_type": "code",
      "source": [
        "a = 10\n",
        "b = 1.21\n",
        "c = 535633629843535633629843535633629843535633629843\n",
        "d = 45+6j\n",
        "\n",
        "# printing variables\n",
        "print(a);print(b);print(c);print(d)"
      ],
      "execution_count": 0,
      "outputs": [
        {
          "output_type": "stream",
          "text": [
            "10\n",
            "1.21\n",
            "535633629843535633629843535633629843535633629843\n",
            "(45+6j)\n"
          ],
          "name": "stdout"
        }
      ]
    },
    {
      "metadata": {
        "id": "Ca2cWuZiJT4-",
        "colab_type": "code",
        "outputId": "0cddbb4d-199f-4eeb-e536-cd69a58a94e8",
        "colab": {
          "base_uri": "https://localhost:8080/",
          "height": 214
        }
      },
      "cell_type": "code",
      "source": [
        "print(a,b)\n",
        "# demo of del statement for deleting variables\n",
        "del a,b\n",
        "\n",
        "print(a) #It will throw an error as we have already removed a"
      ],
      "execution_count": 0,
      "outputs": [
        {
          "output_type": "stream",
          "text": [
            "10 1.21\n"
          ],
          "name": "stdout"
        },
        {
          "output_type": "error",
          "ename": "NameError",
          "evalue": "ignored",
          "traceback": [
            "\u001b[0;31m---------------------------------------------------------------------------\u001b[0m",
            "\u001b[0;31mNameError\u001b[0m                                 Traceback (most recent call last)",
            "\u001b[0;32m<ipython-input-23-2331a95b15e3>\u001b[0m in \u001b[0;36m<module>\u001b[0;34m()\u001b[0m\n\u001b[1;32m      3\u001b[0m \u001b[0;32mdel\u001b[0m \u001b[0ma\u001b[0m\u001b[0;34m,\u001b[0m\u001b[0mb\u001b[0m\u001b[0;34m\u001b[0m\u001b[0;34m\u001b[0m\u001b[0m\n\u001b[1;32m      4\u001b[0m \u001b[0;34m\u001b[0m\u001b[0m\n\u001b[0;32m----> 5\u001b[0;31m \u001b[0mprint\u001b[0m\u001b[0;34m(\u001b[0m\u001b[0ma\u001b[0m\u001b[0;34m)\u001b[0m \u001b[0;31m#It will throw an error as we have already removed a\u001b[0m\u001b[0;34m\u001b[0m\u001b[0;34m\u001b[0m\u001b[0m\n\u001b[0m",
            "\u001b[0;31mNameError\u001b[0m: name 'a' is not defined"
          ]
        }
      ]
    },
    {
      "metadata": {
        "id": "BxxsGZ-sKfp-",
        "colab_type": "code",
        "outputId": "81ebccd8-0e75-4cec-bd8b-08eeb8051be5",
        "colab": {
          "base_uri": "https://localhost:8080/",
          "height": 102
        }
      },
      "cell_type": "code",
      "source": [
        "## Conversion in Numbers\n",
        "\n",
        "# int(val) will comnvert a given type to it's Integer representation\n",
        "a = 12; b = 13.12; c = 9999999999999999999999999999999; d= 45_9j\n",
        "print(int(b))\n",
        "\n",
        "# long(val) will convert a given value to it's Long representation\n",
        "print(int(b))\n",
        "\n",
        "# float(val) will convert a given value to it's Floating point representation\n",
        "print(int(b))\n",
        "\n",
        "#complex(val) will convert the given value to it's complex representation\n",
        "print(complex(a))\n",
        "\n",
        "#complex(val, jValue)\n",
        "print(complex(a,2))"
      ],
      "execution_count": 0,
      "outputs": [
        {
          "output_type": "stream",
          "text": [
            "13\n",
            "13\n",
            "13\n",
            "(12+0j)\n",
            "(12+2j)\n"
          ],
          "name": "stdout"
        }
      ]
    },
    {
      "metadata": {
        "id": "oV5kwur-u1q0",
        "colab_type": "text"
      },
      "cell_type": "markdown",
      "source": [
        "==> **Strings**<br/>\n",
        "-> Python accepts single quotes(' '), double quotes(\" \"), triple quotes(''' ''') for diclaring Strings.<br/>\n",
        "-> The ending quote must match with the starting quote, and triple quote can be used for denoting multi line strings.<br/>\n",
        "**Below are some Hands On Exercise for Practice**"
      ]
    },
    {
      "metadata": {
        "id": "xZR-zcufySHd",
        "colab_type": "code",
        "outputId": "0cac9f39-a8f2-4b7d-c86f-bf1c102e543a",
        "colab": {
          "base_uri": "https://localhost:8080/",
          "height": 238
        }
      },
      "cell_type": "code",
      "source": [
        "# Practicing Strings \n",
        "str0 = \"Banchha\"\n",
        "print(\"\\a\")\n",
        "print(str0 * 2)\n",
        "print(str0 + str0)\n",
        "print(str0[2])\n",
        "print(str0[1:3])\n",
        "print('h' in str0)\n",
        "print('h' not in str0)\n",
        "print(\"\\\\Only one slace will be printed\")\n",
        "#String merging/concatenation\n",
        "str1 = \"Let's Play\"\n",
        "print(str0+str1)\n",
        "print(str0+\" \"+str1)\n",
        "#String lower() will convert the entire string to lower case\n",
        "print(str0.lower())\n",
        "#String upper() will convert the entire string to upper case\n",
        "print(str0.upper())\n",
        "# title() is used for camel casing the given string\n",
        "str3 = \"hey what are you doing\"\n",
        "print(str3.title())\n"
      ],
      "execution_count": 0,
      "outputs": [
        {
          "output_type": "stream",
          "text": [
            "\u0007\n",
            "BanchhaBanchha\n",
            "BanchhaBanchha\n",
            "n\n",
            "an\n",
            "True\n",
            "False\n",
            "\\Only one slace will be printed\n",
            "BanchhaLet's Play\n",
            "Banchha Let's Play\n",
            "banchha\n",
            "BANCHHA\n",
            "Hey What Are You Doing\n"
          ],
          "name": "stdout"
        }
      ]
    },
    {
      "metadata": {
        "id": "GVinhk4HvVVb",
        "colab_type": "text"
      },
      "cell_type": "markdown",
      "source": [
        "==>**List**<br/>\n",
        "-> Lists are group of elements enclosed within **[ ]** and separated **,** not necesarly of same type.<br/>\n",
        "-> List elements can be accessible using the index number both in forward direction with positve number and also in revese direction with negative index number.<br/>\n",
        "Ex: demoList = [\"aba\", True, 1234, \"b\"]<br/>\n",
        "**Below are some Hands On Exercise for Practice**"
      ]
    },
    {
      "metadata": {
        "id": "7W8aWm_DIL9z",
        "colab_type": "code",
        "outputId": "cd444a3f-8d9e-4fd0-cfef-e85bc230a7ac",
        "colab": {
          "base_uri": "https://localhost:8080/",
          "height": 357
        }
      },
      "cell_type": "code",
      "source": [
        "# Practicing Lists\n",
        "\n",
        "# Diclairing a List of animals\n",
        "animals = [\"cow\", \"donkey\", 123, \"zebra\", True]\n",
        "#Accessing elemnts in forward direction with positive index number\n",
        "print(animals[1])\n",
        "print(animals[2])\n",
        "#Accessing elemnts in reverse direction with negative index number\n",
        "print(animals[-1])\n",
        "print(animals[-2])\n",
        "#Accessing a range of elements from the list\n",
        "print(animals[1:3])\n",
        "print(animals[-3:-1])\n",
        "print(animals[0:]) # it will print all the elements starting from the given index to the end element\n",
        "print(animals[:3]) # it will print all the elements starting from the 0th index upto the given index\n",
        "#Modefying the elements of the list\n",
        "animals[0] = \"monkey\"\n",
        "print(animals)\n",
        "animals[-1] = False\n",
        "print(animals)\n",
        "#Deleting elements from the list\n",
        "del(animals[0]) # Deleting single element\n",
        "print(animals)\n",
        "del(animals[1:3]) # Deleting range of elements \n",
        "print(animals)\n",
        "\n",
        "#Adding elements to the list\n",
        "animals.append(\"horse\")\n",
        "print(animals)\n",
        "\n",
        "#Sorting the list\n",
        "digits = [10,1,5,9,3] # Ascending order\n",
        "digits.sort()\n",
        "print(digits)\n",
        "digits.sort(reverse=True) # Descending order\n",
        "print(digits)\n",
        "\n",
        "# Reversing a list\n",
        "digits = [10,1,5,9,3]\n",
        "digits.reverse()\n",
        "print(digits)\n",
        "\n",
        "#length of the list\n",
        "print(len(digits))\n",
        "\n",
        "# Finding min in the list of numebrs\n",
        "print(min(digits))\n",
        "\n",
        "# Finding max in the list of numebrs\n",
        "print(max(digits))\n",
        "\n",
        "# Adding all the elements in a list of numbers\n",
        "print(sum(digits))"
      ],
      "execution_count": 0,
      "outputs": [
        {
          "output_type": "stream",
          "text": [
            "donkey\n",
            "123\n",
            "True\n",
            "zebra\n",
            "['donkey', 123]\n",
            "[123, 'zebra']\n",
            "['cow', 'donkey', 123, 'zebra', True]\n",
            "['cow', 'donkey', 123]\n",
            "['monkey', 'donkey', 123, 'zebra', True]\n",
            "['monkey', 'donkey', 123, 'zebra', False]\n",
            "['donkey', 123, 'zebra', False]\n",
            "['donkey', False]\n",
            "['donkey', False, 'horse']\n",
            "[1, 3, 5, 9, 10]\n",
            "[10, 9, 5, 3, 1]\n",
            "[3, 9, 5, 1, 10]\n",
            "5\n",
            "1\n",
            "10\n",
            "28\n"
          ],
          "name": "stdout"
        }
      ]
    },
    {
      "metadata": {
        "id": "lgVhh2J4_QPJ",
        "colab_type": "text"
      },
      "cell_type": "markdown",
      "source": [
        "==>**Tuples**<br/>\n",
        "-> Tuples are the grouping/collection of elemnts with same type and it is immutable in nature, declaired using **( )** separated with **,**, the elements of the tuples can be accessible using the positive/negative index numebrs of the elements<br/>\n",
        "Ex : (1,2,3)<br/>\n",
        "-> Tuples can be changed only by overwriting it.<br/>\n",
        "**Below are some Hands On Exercise for Practice**"
      ]
    },
    {
      "metadata": {
        "id": "eM8BKOwjZe3M",
        "colab_type": "code",
        "colab": {
          "base_uri": "https://localhost:8080/",
          "height": 282
        },
        "outputId": "cd6fb9a0-4ff0-4cb1-a258-f3333bb3f7e3"
      },
      "cell_type": "code",
      "source": [
        "# Practicing Tuples\n",
        " tpl = (1,2,3)\n",
        " print(tpl)\n",
        " print(tpl[0])\n",
        " tpl = (9,4,5)\n",
        " print(tpl)\n",
        " tpl[0] = 2 # It will through Error, beacuse tuples can be changed only by over writting it\n",
        " del tpl[0] # It will through Error\n",
        "\n",
        "print(tpl)\n"
      ],
      "execution_count": 17,
      "outputs": [
        {
          "output_type": "stream",
          "text": [
            "(1, 2, 3)\n",
            "1\n",
            "(9, 4, 5)\n"
          ],
          "name": "stdout"
        },
        {
          "output_type": "error",
          "ename": "TypeError",
          "evalue": "ignored",
          "traceback": [
            "\u001b[0;31m---------------------------------------------------------------------------\u001b[0m",
            "\u001b[0;31mTypeError\u001b[0m                                 Traceback (most recent call last)",
            "\u001b[0;32m<ipython-input-17-ab948dfa1447>\u001b[0m in \u001b[0;36m<module>\u001b[0;34m()\u001b[0m\n\u001b[1;32m      4\u001b[0m \u001b[0mtpl\u001b[0m \u001b[0;34m=\u001b[0m \u001b[0;34m(\u001b[0m\u001b[0;36m9\u001b[0m\u001b[0;34m,\u001b[0m\u001b[0;36m4\u001b[0m\u001b[0;34m,\u001b[0m\u001b[0;36m5\u001b[0m\u001b[0;34m)\u001b[0m\u001b[0;34m\u001b[0m\u001b[0;34m\u001b[0m\u001b[0m\n\u001b[1;32m      5\u001b[0m \u001b[0mprint\u001b[0m\u001b[0;34m(\u001b[0m\u001b[0mtpl\u001b[0m\u001b[0;34m)\u001b[0m\u001b[0;34m\u001b[0m\u001b[0;34m\u001b[0m\u001b[0m\n\u001b[0;32m----> 6\u001b[0;31m \u001b[0mtpl\u001b[0m\u001b[0;34m[\u001b[0m\u001b[0;36m0\u001b[0m\u001b[0;34m]\u001b[0m \u001b[0;34m=\u001b[0m \u001b[0;36m2\u001b[0m \u001b[0;31m# It will through Error, beacuse tuples can be changed only by over writting it\u001b[0m\u001b[0;34m\u001b[0m\u001b[0;34m\u001b[0m\u001b[0m\n\u001b[0m\u001b[1;32m      7\u001b[0m \u001b[0;32mdel\u001b[0m \u001b[0mtpl\u001b[0m\u001b[0;34m[\u001b[0m\u001b[0;36m0\u001b[0m\u001b[0;34m]\u001b[0m \u001b[0;31m# It will through Error\u001b[0m\u001b[0;34m\u001b[0m\u001b[0;34m\u001b[0m\u001b[0m\n\u001b[1;32m      8\u001b[0m \u001b[0;34m\u001b[0m\u001b[0m\n",
            "\u001b[0;31mTypeError\u001b[0m: 'tuple' object does not support item assignment"
          ]
        }
      ]
    },
    {
      "metadata": {
        "id": "kJVrl7u7Yhdg",
        "colab_type": "text"
      },
      "cell_type": "markdown",
      "source": [
        "**==> Dictionary**<br/>\n",
        "-> Dictionary can be used to group/store different types elements which should be enclosed with curly brackets **{ } **, Unlike List and Tuples in Dictionary we have to store data as key-value pair and should access the data using the key.<br/>\n",
        "Ex : {\"name\":\"Banchha\", \"age\":28}<br/>\n",
        "**Below are some Hands On Exercise for Practice**"
      ]
    },
    {
      "metadata": {
        "id": "JsI6Nkae5XNA",
        "colab_type": "code",
        "outputId": "92fc02a8-c41b-4255-a060-4158f37e01cb",
        "colab": {
          "base_uri": "https://localhost:8080/",
          "height": 102
        }
      },
      "cell_type": "code",
      "source": [
        "# Practicing Dictionary\n",
        "\n",
        "# Declairing a Dictionary\n",
        "\n",
        "details = {\"name\":\"Banchha\", \"age\":28}\n",
        "\n",
        "# Printing  Dictionary\n",
        "print(details)\n",
        "print(details[\"name\"])\n",
        "\n",
        "# Adding item to the Dictionary\n",
        "details[\"City\"] = \"Bhubaeswar\"\n",
        "print(details)\n",
        "#Ediiting value in dictionary\n",
        "details[\"City\"] = \"BBSR\"\n",
        "print(details)\n",
        "#Deleting value from the dictionary\n",
        "del details[\"City\"]\n",
        "print(details)"
      ],
      "execution_count": 5,
      "outputs": [
        {
          "output_type": "stream",
          "text": [
            "{'name': 'Banchha', 'age': 28}\n",
            "Banchha\n",
            "{'name': 'Banchha', 'age': 28, 'City': 'Bhubaeswar'}\n",
            "{'name': 'Banchha', 'age': 28, 'City': 'BBSR'}\n",
            "{'name': 'Banchha', 'age': 28}\n"
          ],
          "name": "stdout"
        }
      ]
    },
    {
      "metadata": {
        "id": "HXyp7C4Apdxq",
        "colab_type": "text"
      },
      "cell_type": "markdown",
      "source": [
        "**[Accepting User Inputs From Console]**<br/>\n",
        "\n",
        "\n",
        "---\n",
        "\n",
        "\n",
        "-> We can use the **input()** for accepting user inputs or to prompt the user for giving input.<br/>\n",
        "Ex: name = input(\"Enter Your Name ?\")<br/>\n",
        "**Below are some Hands On Exercise for Practice**"
      ]
    },
    {
      "metadata": {
        "id": "h99Dsd7lYQXS",
        "colab_type": "code",
        "colab": {
          "base_uri": "https://localhost:8080/",
          "height": 68
        },
        "outputId": "ff7caa9b-a9e9-4d01-978e-0dab312cae2e"
      },
      "cell_type": "code",
      "source": [
        "# Practicing input()\n",
        "name = input(\"Please Enter Your Name ?\")\n",
        "age = input(\"Yopur Age Please ?\")\n",
        "print(\"Welcome,\"+name+\" Good to know your age is\"+age)"
      ],
      "execution_count": 7,
      "outputs": [
        {
          "output_type": "stream",
          "text": [
            "Please Enter Your Name ?Biswa\n",
            "Yopur Age Please ?28\n",
            "Welcome,Biswa Good to know your age is28\n"
          ],
          "name": "stdout"
        }
      ]
    },
    {
      "metadata": {
        "id": "i83VAdtkqPft",
        "colab_type": "text"
      },
      "cell_type": "markdown",
      "source": [
        "**[Operators]**<br/>\n",
        "\n",
        "\n",
        "---\n",
        "\n",
        "\n",
        "-> Various types of operators availble iwth Python are<br/>\n",
        "\n",
        "\n",
        "*   Arithmatic Operator\n",
        "\n",
        "*   Comparision Operator\n",
        "\n",
        "*   Logical Operator\n",
        "*   Assignment Operator\n",
        "\n",
        "\n",
        "*   Membership Operator\n",
        "\n",
        "\n",
        "*   Arithmatic Operator\n",
        "\n",
        "*   Bitwise Operator <br/>\n",
        "\n",
        "**==>  Arithmatic Operator**<br/>\n",
        "-> Arithmatic operators are **<pre>{ +, -, *, / ,%, //, ** </pre>**} <br/>\n",
        "\n",
        "** Below are some Hands On Exercise for Practice**"
      ]
    },
    {
      "metadata": {
        "id": "UjcBn_aMsK14",
        "colab_type": "code",
        "colab": {
          "base_uri": "https://localhost:8080/",
          "height": 136
        },
        "outputId": "312d07cc-fdc6-4c7f-aca8-7e3f090de448"
      },
      "cell_type": "code",
      "source": [
        "# + Addition\n",
        "a = 10\n",
        "b = 20\n",
        "print(a + b)\n",
        "\n",
        "# - Substratction\n",
        "print(b - a)\n",
        "\n",
        "# * Mulitplication\n",
        "print(a * b)\n",
        "\n",
        "# / Division\n",
        "print(b / a)\n",
        "\n",
        "# % Modulus\n",
        "print(a % b)\n",
        "\n",
        "# ** Exponent\n",
        "print(a ** 2)\n",
        "\n",
        "# // Floor Division\n",
        "print(9 // 4)\n"
      ],
      "execution_count": 3,
      "outputs": [
        {
          "output_type": "stream",
          "text": [
            "30\n",
            "10\n",
            "200\n",
            "2.0\n",
            "10\n",
            "100\n",
            "2\n"
          ],
          "name": "stdout"
        }
      ]
    },
    {
      "metadata": {
        "id": "eg8TvjK5tMG4",
        "colab_type": "text"
      },
      "cell_type": "markdown",
      "source": [
        "**==> Comparision Operator**<br/>\n",
        "-> Comparision Opeartors are **{ ==, !=, <, >, <=, >= }** <br/>\n",
        "** Below are some Hands On Exercise for Practice**"
      ]
    },
    {
      "metadata": {
        "id": "g_2a-6NLuQwA",
        "colab_type": "code",
        "colab": {
          "base_uri": "https://localhost:8080/",
          "height": 119
        },
        "outputId": "4db9078f-881d-42b6-e597-0ec3f27e49ff"
      },
      "cell_type": "code",
      "source": [
        "\n",
        "a = 10\n",
        "b = 30\n",
        "# == Double Equals To\n",
        "print(a == b)\n",
        "\n",
        "# != Not Equals To\n",
        "print(a != b)\n",
        "\n",
        "# < Less Than\n",
        "print(a < b)\n",
        "\n",
        "# > Greater Than\n",
        "print(a > b)\n",
        "\n",
        "# <= Less Than Equal To\n",
        "print(a <= b)\n",
        "\n",
        "# >= Greater Than Equal To\n",
        "print(a >= b)\n",
        "\n"
      ],
      "execution_count": 4,
      "outputs": [
        {
          "output_type": "stream",
          "text": [
            "False\n",
            "True\n",
            "True\n",
            "False\n",
            "True\n",
            "False\n"
          ],
          "name": "stdout"
        }
      ]
    },
    {
      "metadata": {
        "id": "HRIOAr6EvChz",
        "colab_type": "text"
      },
      "cell_type": "markdown",
      "source": [
        "**==>  Assignment Operator**<br/>\n",
        "-> Assignment Operators are ** { =, +=, -=, *=, /=, %=, **=, //=  }** <br/>\n",
        "**Below are some Hands On Exercise for Practice**"
      ]
    },
    {
      "metadata": {
        "id": "kkuE0F_7vyTh",
        "colab_type": "code",
        "colab": {
          "base_uri": "https://localhost:8080/",
          "height": 119
        },
        "outputId": "131e854f-1459-4ea8-deb8-4fa75e6c854f"
      },
      "cell_type": "code",
      "source": [
        "# = Assign Operator \n",
        "a = int(10)\n",
        "\n",
        "# += Add and assign back\n",
        "a += 3\n",
        "print (a)\n",
        "\n",
        "# -= Sustract and assign back\n",
        "a -= 1\n",
        "print(a)\n",
        "\n",
        "# *= Multiply and assign back\n",
        "a *= 3\n",
        "print(a)\n",
        "\n",
        "# /= Divide and assign back\n",
        "a /= 3\n",
        "print(a)\n",
        "\n",
        "# **= Do the exponential and assign back\n",
        "a **= 2\n",
        "print(a)\n",
        "\n",
        "# //= Double floor the value and assign back\n",
        "a //= 3\n",
        "print(a)"
      ],
      "execution_count": 13,
      "outputs": [
        {
          "output_type": "stream",
          "text": [
            "13\n",
            "12\n",
            "36\n",
            "12.0\n",
            "144.0\n",
            "48.0\n"
          ],
          "name": "stdout"
        }
      ]
    },
    {
      "metadata": {
        "id": "1NIN_H1UyFdo",
        "colab_type": "text"
      },
      "cell_type": "markdown",
      "source": [
        "**==>  BitWise Operator**<br/>\n",
        "-> BitWise Operators are ** { &, |, ^, ~, <<, >> }** <br/>\n",
        "**Below are some Hands On Exercise for Practice**"
      ]
    },
    {
      "metadata": {
        "id": "Uhhla_BLy-cj",
        "colab_type": "code",
        "colab": {
          "base_uri": "https://localhost:8080/",
          "height": 119
        },
        "outputId": "42cf15fa-a5d9-4e02-fcce-eba7118b99da"
      },
      "cell_type": "code",
      "source": [
        "a = 1011\n",
        "b = 1101\n",
        "\n",
        "# $ Binary And\n",
        "print(a & b)\n",
        "\n",
        "# | Binary Or\n",
        "print(a | b)\n",
        "\n",
        "# ^ Binary Xor\n",
        "print(a ^ b)\n",
        "\n",
        "# ` Compliment\n",
        "print(~a)\n",
        "\n",
        "# << Left Shift Operator\n",
        "print(a << 2)\n",
        "\n",
        "# >> Right Shift Operator\n",
        "print(a >> 2)"
      ],
      "execution_count": 20,
      "outputs": [
        {
          "output_type": "stream",
          "text": [
            "65\n",
            "2047\n",
            "1982\n",
            "-1012\n",
            "4044\n",
            "252\n"
          ],
          "name": "stdout"
        }
      ]
    },
    {
      "metadata": {
        "id": "NfNMGjmBz6Gg",
        "colab_type": "text"
      },
      "cell_type": "markdown",
      "source": [
        "**==>  Logical Operator**<br/>\n",
        "-> BitWise Operators are ** { or, and not }** <br/>\n",
        "**Below are some Hands On Exercise for Practice**"
      ]
    },
    {
      "metadata": {
        "id": "CacD8VKQ0LVj",
        "colab_type": "code",
        "colab": {
          "base_uri": "https://localhost:8080/",
          "height": 68
        },
        "outputId": "0f78577a-b1e5-4ba2-dc0e-467ccc315e20"
      },
      "cell_type": "code",
      "source": [
        "a = True\n",
        "b = False\n",
        "# and\n",
        "print(a and b)\n",
        "\n",
        "# or \n",
        "print(a or b)\n",
        "\n",
        "# not\n",
        "print(not b)"
      ],
      "execution_count": 25,
      "outputs": [
        {
          "output_type": "stream",
          "text": [
            "False\n",
            "True\n",
            "True\n"
          ],
          "name": "stdout"
        }
      ]
    },
    {
      "metadata": {
        "id": "sI6mfg2K0rnC",
        "colab_type": "text"
      },
      "cell_type": "markdown",
      "source": [
        "**==>  Membership Operator**<br/>\n",
        "-> Membership Operators are ** { in, not in }** <br/>\n",
        "**Below are some Hands On Exercise for Practice**"
      ]
    },
    {
      "metadata": {
        "id": "BlR4YlEz009T",
        "colab_type": "code",
        "colab": {
          "base_uri": "https://localhost:8080/",
          "height": 51
        },
        "outputId": "ca27497e-99a1-4a87-a90a-bdd67dfe32f1"
      },
      "cell_type": "code",
      "source": [
        "pets = [\"dog\", \"birds\"]\n",
        "\n",
        "# in if an element is present in a list or not\n",
        "print(\"dog\" in pets)\n",
        "\n",
        "# not in checks if an element is not present in a list\n",
        "print(\"dog\" not in pets)"
      ],
      "execution_count": 29,
      "outputs": [
        {
          "output_type": "stream",
          "text": [
            "True\n",
            "False\n"
          ],
          "name": "stdout"
        }
      ]
    },
    {
      "metadata": {
        "id": "k_ZsGFoU1ezC",
        "colab_type": "text"
      },
      "cell_type": "markdown",
      "source": [
        "**==>  Identity Operator**<br/>\n",
        "-> Identity Operators are ** { is, is not }** <br/>\n",
        "**Below are some Hands On Exercise for Practice**"
      ]
    },
    {
      "metadata": {
        "id": "ind_BjWB1x2E",
        "colab_type": "code",
        "colab": {
          "base_uri": "https://localhost:8080/",
          "height": 51
        },
        "outputId": "3b1dfab6-f31f-422d-baa8-9183b8c5cf6a"
      },
      "cell_type": "code",
      "source": [
        "a = 10\n",
        "b = 10\n",
        "\n",
        "# is\n",
        "print(a is b)\n",
        "\n",
        "# is not\n",
        "print(a is not b)"
      ],
      "execution_count": 31,
      "outputs": [
        {
          "output_type": "stream",
          "text": [
            "True\n",
            "False\n"
          ],
          "name": "stdout"
        }
      ]
    },
    {
      "metadata": {
        "id": "Zxj0pHg2-VK2",
        "colab_type": "text"
      },
      "cell_type": "markdown",
      "source": [
        "**[  Decision Making ]**\n",
        "\n",
        "\n",
        "---\n",
        "\n",
        "-> Decision making helps to execute block of code based on some conditions it also provides facility to decide which statement block sholud be executed based upon the condition.\n",
        "-> In python there are 3 types of conditional statements are there such as **if, if else, Nested If**. <br/>\n",
        "**Below are some Hands On Exercise for Practice**"
      ]
    },
    {
      "metadata": {
        "id": "Jl_K6gjq_KaV",
        "colab_type": "code",
        "colab": {
          "base_uri": "https://localhost:8080/",
          "height": 68
        },
        "outputId": "544e7a86-da72-4df9-9cd2-8fbc7ed4c834"
      },
      "cell_type": "code",
      "source": [
        "# if example\n",
        "x = 10\n",
        "if(x == 10):\n",
        "  print(10)\n",
        "\n",
        "# if else example\n",
        "if(x > 10):\n",
        "  print(\" X is Greater Than 10\")\n",
        "else:\n",
        "  print(\"X is Lesser Than 10\")\n",
        "  \n",
        "# if elif else example\n",
        "if(x >5 and x < 10):\n",
        "  print(\" X is Greater Than 5 but Lesser than 10\")\n",
        "elif(x > 10 and x < 15):\n",
        "  print(\" X is Greater Than 10 but Lesser than 15\")\n",
        "else:\n",
        "  print(\"Failed to predict X value\")\n",
        " \n"
      ],
      "execution_count": 36,
      "outputs": [
        {
          "output_type": "stream",
          "text": [
            "10\n",
            "X is Lesser Than 10\n",
            "Failed to predict X value\n"
          ],
          "name": "stdout"
        }
      ]
    },
    {
      "metadata": {
        "id": "K3JDtl9Qakh2",
        "colab_type": "text"
      },
      "cell_type": "markdown",
      "source": [
        "**[LOOPS]**<br/>\n",
        "-> Loops are used to perform certain operations iteratively until ceratin condition satisfies.<br/>\n",
        "-> In Python two primery Loops are **For, While**.<br/>\n"
      ]
    },
    {
      "metadata": {
        "id": "AJ_wYRp4X9xA",
        "colab_type": "text"
      },
      "cell_type": "markdown",
      "source": [
        "\n",
        "\n",
        "**==> While**<br/>\n",
        "-> While loop iterates the statements until the given condition is true.<br/>\n",
        "Syntax: <br/>\n",
        "    While(condition):<br/>\n",
        "     &nbsp;&nbsp;&nbsp;your Statements<br/>\n",
        "**Below are some Hands On Exercise for Practice**\n"
      ]
    },
    {
      "metadata": {
        "id": "qfX7NZHObdEF",
        "colab_type": "code",
        "colab": {
          "base_uri": "https://localhost:8080/",
          "height": 204
        },
        "outputId": "45c18800-9dbf-4e47-8333-01c1d8aaaa40"
      },
      "cell_type": "code",
      "source": [
        "# Practicing While Loop\n",
        "\n",
        "#Printing a Multiplication Table\n",
        "num = input(\"Input a number for printing the Mulitplication Table ->\")\n",
        "count = 0\n",
        "while(count < 10):\n",
        "  count += 1\n",
        "  result = int(num)*count\n",
        "  print(str(num) +\"*\"+ str(count)+\"=\"+str(result))\n",
        "  #print(int(num)*count)\n",
        "\n"
      ],
      "execution_count": 40,
      "outputs": [
        {
          "output_type": "stream",
          "text": [
            "Input a number for printing the Mulitplication Table ->2\n",
            "2*1=2\n",
            "2*2=4\n",
            "2*3=6\n",
            "2*4=8\n",
            "2*5=10\n",
            "2*6=12\n",
            "2*7=14\n",
            "2*8=16\n",
            "2*9=18\n",
            "2*10=20\n"
          ],
          "name": "stdout"
        }
      ]
    },
    {
      "metadata": {
        "id": "NoN8vXUkdDGD",
        "colab_type": "code",
        "colab": {
          "base_uri": "https://localhost:8080/",
          "height": 119
        },
        "outputId": "077a42e1-1e02-4bc3-dcc3-f63adef97ce2"
      },
      "cell_type": "code",
      "source": [
        "# Stopping While loop with some input condition\n",
        "# Below is a program which will accepts all the inputs from the user and append it to a variable until the user has not entered \"bye\"\n",
        "inpt = \"\"\n",
        "rslt = \"\"\n",
        "while(inpt != \"bye\"):\n",
        "  inpt = input(\"Enter a string ?\")\n",
        "  rslt += inpt\n",
        "print(\"Output Is ->\\n\"+rslt)"
      ],
      "execution_count": 41,
      "outputs": [
        {
          "output_type": "stream",
          "text": [
            "Enter a string ?hi\n",
            "Enter a string ?how are you ??\n",
            "Enter a string ?I am good.\n",
            "Enter a string ?bye\n",
            "Output Is ->\n",
            "hihow are you ??I am good.bye\n"
          ],
          "name": "stdout"
        }
      ]
    },
    {
      "metadata": {
        "id": "obdG2xA02XXb",
        "colab_type": "code",
        "outputId": "7ebfe864-ed79-4703-d804-fa93a51a7e4c",
        "colab": {
          "base_uri": "https://localhost:8080/",
          "height": 136
        }
      },
      "cell_type": "code",
      "source": [
        "# For Loop with list\n",
        "\n",
        "animals = [\"Rhino\", \"zebra\", \"monkey\", \"dog\", \"cat\"]\n",
        "\n",
        "for animal in animals:\n",
        "  print(\"I have seen -- \"+animal)\n",
        "  \n",
        "#For with a list range\n",
        "for animal in animals[1:3]:\n",
        "  print(animal)"
      ],
      "execution_count": 0,
      "outputs": [
        {
          "output_type": "stream",
          "text": [
            "I have seen -- Rhino\n",
            "I have seen -- zebra\n",
            "I have seen -- monkey\n",
            "I have seen -- dog\n",
            "I have seen -- cat\n",
            "zebra\n",
            "monkey\n"
          ],
          "name": "stdout"
        }
      ]
    }
  ]
}