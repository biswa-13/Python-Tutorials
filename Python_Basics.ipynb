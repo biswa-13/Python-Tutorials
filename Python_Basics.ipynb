{
  "nbformat": 4,
  "nbformat_minor": 0,
  "metadata": {
    "colab": {
      "name": "Python Basics.ipynb",
      "version": "0.3.2",
      "provenance": [],
      "collapsed_sections": [],
      "include_colab_link": true
    },
    "kernelspec": {
      "name": "python3",
      "display_name": "Python 3"
    }
  },
  "cells": [
    {
      "cell_type": "markdown",
      "metadata": {
        "id": "view-in-github",
        "colab_type": "text"
      },
      "source": [
        "<a href=\"https://colab.research.google.com/github/biswa-13/Python-Tutorials/blob/master/Python_Basics.ipynb\" target=\"_parent\"><img src=\"https://colab.research.google.com/assets/colab-badge.svg\" alt=\"Open In Colab\"/></a>"
      ]
    },
    {
      "metadata": {
        "id": "USlmvcxqJg2M",
        "colab_type": "code",
        "colab": {}
      },
      "cell_type": "code",
      "source": [
        ""
      ],
      "execution_count": 0,
      "outputs": []
    },
    {
      "metadata": {
        "id": "ooEuHkG-Jk4A",
        "colab_type": "text"
      },
      "cell_type": "markdown",
      "source": [
        "Hi All,\n",
        "I am BiswaRanjan Samal and Welcome to my Python Basic Course Tutorial, in this tutorial we will learn\n",
        "\n",
        "*   Python Installation\n",
        "\n",
        "*   Python Editors\n",
        "\n",
        "*   Hello World in Python\n",
        "\n",
        "*   Basic Data Types\n",
        "\n",
        "*   Operators\n",
        "\n",
        "*   Conditional Statements\n",
        "\n",
        "*   Loop Statements\n",
        "\n"
      ]
    }
  ]
}